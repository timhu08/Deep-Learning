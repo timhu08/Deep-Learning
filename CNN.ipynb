{
 "cells": [
  {
   "cell_type": "code",
   "execution_count": 1,
   "metadata": {},
   "outputs": [
    {
     "name": "stderr",
     "output_type": "stream",
     "text": [
      "C:\\Users\\RD\\Anaconda3\\lib\\site-packages\\h5py\\__init__.py:36: FutureWarning: Conversion of the second argument of issubdtype from `float` to `np.floating` is deprecated. In future, it will be treated as `np.float64 == np.dtype(float).type`.\n",
      "  from ._conv import register_converters as _register_converters\n",
      "Using TensorFlow backend.\n"
     ]
    }
   ],
   "source": [
    "from keras.preprocessing.image import ImageDataGenerator\n",
    "from keras.models import Sequential\n",
    "from keras.layers import Conv2D, MaxPooling2D\n",
    "from keras.layers import Activation, Dropout, Flatten, Dense\n",
    "from keras import backend as K"
   ]
  },
  {
   "cell_type": "code",
   "execution_count": 12,
   "metadata": {
    "scrolled": true
   },
   "outputs": [
    {
     "name": "stdout",
     "output_type": "stream",
     "text": [
      "Found 141 images belonging to 3 classes.\n",
      "Found 15 images belonging to 3 classes.\n",
      "Epoch 1/30\n",
      "70/70 [==============================] - 74s 1s/step - loss: 9.5994 - acc: 0.3714 - val_loss: 11.5129 - val_acc: 0.2857\n",
      "Epoch 2/30\n",
      "70/70 [==============================] - 66s 939ms/step - loss: 4.8152 - acc: 0.3429 - val_loss: 1.3330 - val_acc: 0.3571\n",
      "Epoch 3/30\n",
      "70/70 [==============================] - 63s 906ms/step - loss: 1.2873 - acc: 0.3429 - val_loss: 1.0899 - val_acc: 0.3571\n",
      "Epoch 4/30\n",
      "70/70 [==============================] - 73s 1s/step - loss: 1.1666 - acc: 0.3428 - val_loss: 1.0692 - val_acc: 0.2857\n",
      "Epoch 5/30\n",
      "70/70 [==============================] - 66s 944ms/step - loss: 1.1802 - acc: 0.3071 - val_loss: 0.9305 - val_acc: 0.5000\n",
      "Epoch 6/30\n",
      "70/70 [==============================] - 70s 995ms/step - loss: 1.0815 - acc: 0.4571 - val_loss: 0.8101 - val_acc: 0.7143\n",
      "Epoch 7/30\n",
      "70/70 [==============================] - 64s 910ms/step - loss: 1.1889 - acc: 0.4072 - val_loss: 0.8902 - val_acc: 0.5714\n",
      "Epoch 8/30\n",
      "70/70 [==============================] - 67s 959ms/step - loss: 1.0545 - acc: 0.4999 - val_loss: 0.7267 - val_acc: 0.7857\n",
      "Epoch 9/30\n",
      "70/70 [==============================] - 78s 1s/step - loss: 0.9928 - acc: 0.4571 - val_loss: 0.6954 - val_acc: 0.5000\n",
      "Epoch 10/30\n",
      "70/70 [==============================] - 82s 1s/step - loss: 0.8974 - acc: 0.5499 - val_loss: 0.8433 - val_acc: 0.8571\n",
      "Epoch 11/30\n",
      "70/70 [==============================] - 86s 1s/step - loss: 0.9853 - acc: 0.5785 - val_loss: 0.7035 - val_acc: 0.7857\n",
      "Epoch 12/30\n",
      "70/70 [==============================] - 85s 1s/step - loss: 0.9072 - acc: 0.5643 - val_loss: 0.8897 - val_acc: 0.7143\n",
      "Epoch 13/30\n",
      "70/70 [==============================] - 84s 1s/step - loss: 0.8162 - acc: 0.6071 - val_loss: 0.4829 - val_acc: 0.8571\n",
      "Epoch 14/30\n",
      "70/70 [==============================] - 4148s 59s/step - loss: 0.7941 - acc: 0.6571 - val_loss: 0.4102 - val_acc: 0.8571\n",
      "Epoch 15/30\n",
      "70/70 [==============================] - 62s 885ms/step - loss: 1.0132 - acc: 0.6501 - val_loss: 0.4185 - val_acc: 0.7857\n",
      "Epoch 16/30\n",
      "70/70 [==============================] - 87s 1s/step - loss: 0.8922 - acc: 0.6000 - val_loss: 0.4944 - val_acc: 0.7857\n",
      "Epoch 17/30\n",
      "70/70 [==============================] - 81s 1s/step - loss: 0.8141 - acc: 0.5143 - val_loss: 0.5688 - val_acc: 0.7143\n",
      "Epoch 18/30\n",
      "70/70 [==============================] - 81s 1s/step - loss: 0.8038 - acc: 0.6214 - val_loss: 0.5962 - val_acc: 0.5000\n",
      "Epoch 19/30\n",
      "70/70 [==============================] - 82s 1s/step - loss: 0.7083 - acc: 0.6928 - val_loss: 0.8919 - val_acc: 0.8571\n",
      "Epoch 20/30\n",
      "70/70 [==============================] - 81s 1s/step - loss: 0.8708 - acc: 0.6428 - val_loss: 1.1445 - val_acc: 0.8571\n",
      "Epoch 21/30\n",
      "70/70 [==============================] - 82s 1s/step - loss: 0.6839 - acc: 0.6929 - val_loss: 0.5441 - val_acc: 0.8571\n",
      "Epoch 22/30\n",
      "70/70 [==============================] - 82s 1s/step - loss: 0.7579 - acc: 0.6215 - val_loss: 0.5466 - val_acc: 0.8571\n",
      "Epoch 23/30\n",
      "70/70 [==============================] - 83s 1s/step - loss: 0.7247 - acc: 0.7000 - val_loss: 0.8785 - val_acc: 0.8571\n",
      "Epoch 24/30\n",
      "70/70 [==============================] - 79s 1s/step - loss: 0.6679 - acc: 0.7428 - val_loss: 0.5659 - val_acc: 0.5000\n",
      "Epoch 25/30\n",
      "70/70 [==============================] - 80s 1s/step - loss: 0.6608 - acc: 0.6928 - val_loss: 0.3521 - val_acc: 0.8571\n",
      "Epoch 26/30\n",
      "70/70 [==============================] - 82s 1s/step - loss: 0.6616 - acc: 0.6286 - val_loss: 0.3959 - val_acc: 0.7857\n",
      "Epoch 27/30\n",
      "70/70 [==============================] - 89s 1s/step - loss: 0.9707 - acc: 0.7285 - val_loss: 0.4434 - val_acc: 0.6429\n",
      "Epoch 28/30\n",
      "70/70 [==============================] - 81s 1s/step - loss: 0.6026 - acc: 0.7214 - val_loss: 0.9651 - val_acc: 0.8571\n",
      "Epoch 29/30\n",
      "70/70 [==============================] - 80s 1s/step - loss: 0.9307 - acc: 0.6500 - val_loss: 0.5096 - val_acc: 0.8571\n",
      "Epoch 30/30\n",
      "70/70 [==============================] - 83s 1s/step - loss: 0.7516 - acc: 0.7214 - val_loss: 0.5429 - val_acc: 0.8571\n"
     ]
    }
   ],
   "source": [
    "# dimensions of our images.\n",
    "img_width, img_height = 640, 360\n",
    "\n",
    "train_data_dir = 'C:/Users/RD/Desktop/bigdata/test/train'\n",
    "validation_data_dir = 'C:/Users/RD/Desktop/bigdata/test/validation'\n",
    "nb_train_samples = 141\n",
    "nb_validation_samples = 15\n",
    "epochs = 30\n",
    "batch_size = 2\n",
    "\n",
    "if K.image_data_format() == 'channels_first':\n",
    "    input_shape = (3, img_width, img_height)\n",
    "else:\n",
    "    input_shape = (img_width, img_height, 3)\n",
    "\n",
    "model = Sequential()\n",
    "model.add(Conv2D(32, (3, 3), input_shape=input_shape))\n",
    "model.add(Activation('relu'))\n",
    "model.add(MaxPooling2D(pool_size=(2, 2)))\n",
    "\n",
    "model.add(Conv2D(32, (3, 3)))\n",
    "model.add(Activation('relu'))\n",
    "model.add(MaxPooling2D(pool_size=(2, 2)))\n",
    "\n",
    "model.add(Conv2D(64, (3, 3)))\n",
    "model.add(Activation('relu'))\n",
    "model.add(MaxPooling2D(pool_size=(2, 2)))\n",
    "\n",
    "model.add(Flatten())\n",
    "\n",
    "model.add(Dense(64))\n",
    "model.add(Activation('relu'))\n",
    "model.add(Dropout(0.5))\n",
    "model.add(Dense(3)) #分3類\n",
    "model.add(Activation('softmax')) #採用Softmax\n",
    "\n",
    "model.compile(loss='categorical_crossentropy', #多分類\n",
    "              optimizer='rmsprop',\n",
    "              metrics=['accuracy'])\n",
    "\n",
    "# this is the augmentation configuration we will use for training\n",
    "train_datagen = ImageDataGenerator(\n",
    "    rescale=1. / 255,\n",
    "    shear_range=0.2,\n",
    "    zoom_range=0.2,\n",
    "    horizontal_flip=True)\n",
    "\n",
    "# this is the augmentation configuration we will use for testing:\n",
    "# only rescaling\n",
    "test_datagen = ImageDataGenerator(rescale=1. / 255)\n",
    "\n",
    "train_generator = train_datagen.flow_from_directory(\n",
    "    train_data_dir,\n",
    "    target_size=(img_width, img_height),\n",
    "    batch_size=batch_size,\n",
    "    class_mode='categorical') #多分類\n",
    "\n",
    "validation_generator = test_datagen.flow_from_directory(\n",
    "    validation_data_dir,\n",
    "    target_size=(img_width, img_height),\n",
    "    batch_size=batch_size,\n",
    "    class_mode='categorical') #多分類\n",
    "\n",
    "train_history = model.fit_generator(\n",
    "    train_generator,\n",
    "    steps_per_epoch=nb_train_samples // batch_size,\n",
    "    epochs=epochs,\n",
    "    validation_data=validation_generator,\n",
    "    validation_steps=nb_validation_samples // batch_size)\n",
    "\n",
    "model.save('C:/Users/RD/Desktop/bigdata/test/cnnmodel/cnnmodel.h5')\n"
   ]
  },
  {
   "cell_type": "code",
   "execution_count": 13,
   "metadata": {},
   "outputs": [
    {
     "data": {
      "image/png": "[encoded data removed]",
      "text/plain": [
       "<matplotlib.figure.Figure at 0x22a09d7fc18>"
      ]
     },
     "metadata": {},
     "output_type": "display_data"
    }
   ],
   "source": [
    "import matplotlib.pyplot as plt  \n",
    "\n",
    "def show_train_history(train_history, train, validation):  \n",
    "    plt.plot(train_history.history[train])  \n",
    "    plt.plot(train_history.history[validation])  \n",
    "    plt.title('Train History')  \n",
    "    plt.ylabel(train)  \n",
    "    \n",
    "    plt.xlabel('Epoch')  \n",
    "    plt.legend(['train', 'validation'], loc='upper left')  \n",
    "    plt.show()  \n",
    "\n",
    "show_train_history(train_history, 'acc', 'val_acc')"
   ]
  },
  {
   "cell_type": "code",
   "execution_count": 17,
   "metadata": {},
   "outputs": [
    {
     "data": {
      "text/plain": [
       "array([[0., 0., 1.]], dtype=float32)"
      ]
     },
     "execution_count": 17,
     "metadata": {},
     "output_type": "execute_result"
    }
   ],
   "source": [
    "import numpy as np  \n",
    "from keras.applications.imagenet_utils import decode_predictions  \n",
    "from keras.preprocessing import image  \n",
    "from keras.applications import *  \n",
    "  \n",
    "import os  \n",
    "from keras.applications.inception_v3 import preprocess_input  \n",
    "from keras.models import load_model  \n",
    "  \n",
    "file_path = 'C:/Users/RD/Desktop/bigdata/test/project/a4.png' # 新資料做預測\n",
    "  \n",
    "img = image.load_img(file_path, target_size=(640, 360))  \n",
    "x = image.img_to_array(img)  \n",
    "x = np.expand_dims(x, axis=0)  \n",
    "x = preprocess_input(x)  \n",
    "  \n",
    "model = load_model('C:/Users/RD/Desktop/bigdata/test/cnnmodel/cnnmodel.h5')  \n",
    "y = model.predict(x)  \n",
    "y.round()"
   ]
  }
 ],
 "metadata": {
  "kernelspec": {
   "display_name": "Python 3",
   "language": "python",
   "name": "python3"
  },
  "language_info": {
   "codemirror_mode": {
    "name": "ipython",
    "version": 3
   },
   "file_extension": ".py",
   "mimetype": "text/x-python",
   "name": "python",
   "nbconvert_exporter": "python",
   "pygments_lexer": "ipython3",
   "version": "3.6.4"
  }
 },
 "nbformat": 4,
 "nbformat_minor": 2
}
